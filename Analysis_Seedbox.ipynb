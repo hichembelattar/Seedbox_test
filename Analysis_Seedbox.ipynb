{
 "cells": [
  {
   "cell_type": "markdown",
   "metadata": {},
   "source": [
    "# Seedbox Data Science Application Test\n",
    "\n",
    "\n",
    "Candidate name: **Hichem Belattar**"
   ]
  },
  {
   "cell_type": "code",
   "execution_count": 1,
   "metadata": {},
   "outputs": [],
   "source": [
    "### imports and file loading\n",
    "\n",
    "import pandas as pd\n",
    "import numpy as np\n",
    "import matplotlib.pyplot as plt\n",
    "\n",
    "test_sample = pd.read_csv(\"testSamples.csv\")\n",
    "trans_data  = pd.read_csv(\"transData.csv\")"
   ]
  },
  {
   "cell_type": "code",
   "execution_count": 2,
   "metadata": {},
   "outputs": [],
   "source": [
    "### arrays containing the ids of the subject in each group\n",
    "c_group = test_sample['sample_id'][ test_sample['test_group'] == 0 ].values\n",
    "t_group = test_sample['sample_id'][ test_sample['test_group'] == 1 ].values"
   ]
  },
  {
   "cell_type": "markdown",
   "metadata": {},
   "source": [
    "### Question 1. Probability distribution"
   ]
  },
  {
   "cell_type": "markdown",
   "metadata": {},
   "source": [
    "Customers are randomly assigned to one of the two groups when they connect to the cancellation page of the website for the first time, we notice that it is a behavior of **Bernoulli's law** which is repeated, we deduce that our distribution follows a **Binomial law** which mass function is written as follows:"
   ]
  },
  {
   "cell_type": "markdown",
   "metadata": {},
   "source": [
    "<img src=\"https://image.ibb.co/iTTN2T/01.png\" alt=\"01\" border=\"0\">"
   ]
  },
  {
   "cell_type": "code",
   "execution_count": 3,
   "metadata": {},
   "outputs": [
    {
     "data": {
      "text/plain": [
       "0    44886\n",
       "1    14835\n",
       "Name: test_group, dtype: int64"
      ]
     },
     "execution_count": 3,
     "metadata": {},
     "output_type": "execute_result"
    }
   ],
   "source": [
    "# counting number of customers in both groups\n",
    "test_sample['test_group'].value_counts() "
   ]
  },
  {
   "cell_type": "code",
   "execution_count": 4,
   "metadata": {},
   "outputs": [
    {
     "data": {
      "text/plain": [
       "0    0.751595\n",
       "1    0.248405\n",
       "Name: test_group, dtype: float64"
      ]
     },
     "execution_count": 4,
     "metadata": {},
     "output_type": "execute_result"
    }
   ],
   "source": [
    "# p and (1-p)\n",
    "test_sample['test_group'].value_counts() / 59721"
   ]
  },
  {
   "cell_type": "markdown",
   "metadata": {},
   "source": [
    "** We deduce the probability distribution between the test group and the control group: **"
   ]
  },
  {
   "cell_type": "markdown",
   "metadata": {},
   "source": [
    "<img src=\"https://preview.ibb.co/f2UJsT/01.png\" alt=\"01\" border=\"0\">"
   ]
  },
  {
   "cell_type": "code",
   "execution_count": 5,
   "metadata": {},
   "outputs": [
    {
     "name": "stdout",
     "output_type": "stream",
     "text": [
      "Percentil of test subjects in the test group    : 24.84%\n",
      "Percentil of test subjects in the control group : 75.16%\n"
     ]
    },
    {
     "data": {
      "image/png": "[encoded data removed]",
      "text/plain": [
       "<matplotlib.figure.Figure at 0xd9197d2cf8>"
      ]
     },
     "metadata": {},
     "output_type": "display_data"
    }
   ],
   "source": [
    "pdf = test_sample['test_group'].mean()\n",
    "\n",
    "print( \"Percentil of test subjects in the test group    : %.2f\" %(pdf*100) +'%')\n",
    "print( \"Percentil of test subjects in the control group : %.2f\" %((1-pdf)*100) +'%')\n",
    "\n",
    "plt.pie( x=[pdf, 1-pdf], explode=[0.05, 0.05], labels=['test group', 'control group'], shadow=True )\n",
    "plt.title( 'Distribution of test subjects' )\n",
    "plt.axis('equal')\n",
    "plt.show()"
   ]
  },
  {
   "cell_type": "markdown",
   "metadata": {},
   "source": [
    "### Question 2. Probability to make at least 1 REBILL"
   ]
  },
  {
   "cell_type": "code",
   "execution_count": 6,
   "metadata": {
    "collapsed": true
   },
   "outputs": [],
   "source": [
    "# makes a list of the ids that made at least one REBILL\n",
    "rebills = trans_data['sample_id'][ trans_data['transaction_type'] == 'REBILL' ].values\n",
    "\n",
    "tr = cr = 0\n",
    "\n",
    "# the ids are converted to sets for convenience\n",
    "test_id    = set( t_group )\n",
    "control_id = set( c_group )\n",
    "\n",
    "# avoids double counting\n",
    "for i in rebills :\n",
    "    if i in control_id :\n",
    "        cr += 1\n",
    "        control_id -= set([i])\n",
    "\n",
    "    elif i in test_id :\n",
    "        tr += 1\n",
    "        test_id -= set([i])"
   ]
  },
  {
   "cell_type": "markdown",
   "metadata": {},
   "source": [
    "This part is made to count the number of subject that made at least one REBILL in each group respectively"
   ]
  },
  {
   "cell_type": "markdown",
   "metadata": {},
   "source": [
    "We use the **A/B** statistical significance test.\n",
    "\n",
    "Here the hypothesis (assumptions) are :<br/>\n",
    "**H_0 : cr=tr **i.e. there is no difference in rebill proportions<br/>\n",
    "**H_1 : cr<tr **i.e. the test group has proportionaly more rebills than the control group<br/>"
   ]
  },
  {
   "cell_type": "code",
   "execution_count": 7,
   "metadata": {},
   "outputs": [
    {
     "name": "stdout",
     "output_type": "stream",
     "text": [
      "tr/cr = 5.003147695855258  ;  Z = 32.21629567164292\n"
     ]
    }
   ],
   "source": [
    "# Averages\n",
    "cr /= len(c_group)\n",
    "tr /= len(t_group)\n",
    "\n",
    "# Standard errors (bernouilli distribution)\n",
    "SE = ( np.sqrt(cr*(1-cr)/len(c_group)),\n",
    "       np.sqrt(tr*(1-tr)/len(t_group)))\n",
    "\n",
    "SF = np.sqrt( SE[0]**2 + SE[1]**2 )\n",
    "\n",
    "# Statistical significance\n",
    "z  = (tr - cr)/SF\n",
    "print( f\"tr/cr = {tr/cr}  ;  Z = {z}\" )"
   ]
  },
  {
   "cell_type": "markdown",
   "metadata": {},
   "source": [
    "As we see Z >> 2.58 i.e. we are more then 99% confidente that **H_0** is false.<br/>\n",
    "**We can assert with 99% confidence that a subject that must call_in to cancel is 5 times more likely to have a least one rebill.**"
   ]
  },
  {
   "cell_type": "markdown",
   "metadata": {},
   "source": [
    "### Question 3. Generation of revenues"
   ]
  },
  {
   "cell_type": "code",
   "execution_count": 8,
   "metadata": {},
   "outputs": [
    {
     "name": "stdout",
     "output_type": "stream",
     "text": [
      "tr/cr = 1.2728427376127638  ;  Z = 42.62142397442697\n"
     ]
    }
   ],
   "source": [
    "c_revenue = trans_data[ trans_data['sample_id'].isin(c_group) ]['transaction_amount']\n",
    "t_revenue = trans_data[ trans_data['sample_id'].isin(t_group) ]['transaction_amount']\n",
    "\n",
    "# Averages\n",
    "cr = np.mean(c_revenue)\n",
    "tr = np.mean(t_revenue)\n",
    "\n",
    "# Standard errors\n",
    "SE = ( np.std(c_revenue)/np.sqrt(len(c_group)), \n",
    "       np.std(t_revenue)/np.sqrt(len(t_group)))\n",
    "\n",
    "SF = np.sqrt( SE[0]**2 + SE[1]**2 )\n",
    "\n",
    "# Statistical significance\n",
    "z  = (tr - cr)/SF\n",
    "print( f\"tr/cr = {tr/cr}  ;  Z = {z}\" )"
   ]
  },
  {
   "cell_type": "markdown",
   "metadata": {},
   "source": [
    "For revenue generation, we compute the average revenue generated in each group then scale it between [0,1] to make the calculation possible using the same **A/B** statistical test.\n",
    "\n",
    "**H_0 : cr=tr ** i.e. there is no difference in revenue generation<br/> **H_1 : cr<tr ** i.e. a test subject that has to call-in generates more revenue\n",
    "\n",
    "We see that Z >> 2.58, we can then assert with 99% confidence that H_0 is false.<br/>\n",
    "** In conclusion: a subject that has to call-in to cancel will generate around 3 times more revenu, with 99% confidence rate.**"
   ]
  },
  {
   "cell_type": "markdown",
   "metadata": {},
   "source": [
    "### Question 4. CHARGEBACKs/REBILLs"
   ]
  },
  {
   "cell_type": "code",
   "execution_count": 9,
   "metadata": {
    "collapsed": true
   },
   "outputs": [],
   "source": [
    "# list of the number of transaction given theyre type, made by each subject\n",
    "trans = [ trans_data[ trans_data['sample_id'].isin(c_group) ].groupby(['sample_id','transaction_type']).size(),\n",
    "          trans_data[ trans_data['sample_id'].isin(t_group) ].groupby(['sample_id','transaction_type']).size() ]\n",
    "\n",
    "# array of the ids that actually made a transaction\n",
    "relevent_id = trans_data['sample_id'].values\n",
    "\n",
    "rate = [ 0, 0 ]\n",
    "par  = ['CHARGEBACK', 'REBILL']"
   ]
  },
  {
   "cell_type": "markdown",
   "metadata": {},
   "source": [
    "The code below is entended to compute the CHARGEBACKs/REBILLs rate for each subject that made at least one rebill (otherwise it would be a division by 0), hence the try/except loop. Then we add that rate to its group's."
   ]
  },
  {
   "cell_type": "code",
   "execution_count": 10,
   "metadata": {
    "collapsed": true
   },
   "outputs": [],
   "source": [
    "for n, i in enumerate([c_group, t_group]) :\n",
    "    for j in i :\n",
    "        if j in relevent_id :\n",
    "            var = [0,0]\n",
    "            \n",
    "            for m, p in enumerate(par) :\n",
    "                try :\n",
    "                    var[m] = trans[n][j, p]\n",
    "                except :\n",
    "                    continue\n",
    "            \n",
    "            if var[1] == 0 :\n",
    "                continue\n",
    "            \n",
    "            ch, re = var\n",
    "            rate[n] += ch/re"
   ]
  },
  {
   "cell_type": "code",
   "execution_count": 11,
   "metadata": {},
   "outputs": [
    {
     "name": "stdout",
     "output_type": "stream",
     "text": [
      "tr/cr = 12.859150657229526  ;  Z = 35227.4670861873\n"
     ]
    }
   ],
   "source": [
    "# Averages\n",
    "cr, tr = rate\n",
    "cr /= len(c_group)\n",
    "tr /= len(t_group)\n",
    "\n",
    "# Standard errors\n",
    "SE = ( np.std(rate[0])/np.sqrt(len(c_group)),\n",
    "       np.std(rate[1])/np.sqrt(len(t_group)))\n",
    "\n",
    "SF = np.sqrt( SE[0]**2 + SE[1]**2 )\n",
    "\n",
    "# Statistical significance\n",
    "# an epsilon is added to avoid dividing by zero\n",
    "z  = (tr - cr)/(SF+1e-8)\n",
    "print( f\"tr/cr = {tr/cr}  ;  Z = {z}\" )"
   ]
  },
  {
   "cell_type": "markdown",
   "metadata": {},
   "source": [
    "Again we use **A/B** statistical significance test after adjusting for sample size.\n",
    "\n",
    "**H_0** : CHARGEBACKs/REBILLs rate is identical for both groups.<br/>\n",
    "**H_1** : the test group has a higher CHARGEBACKs/REBILLs rate.\n",
    "\n",
    "Z >> 2.58 implies **H_0** is false with 99% confidence.<br/>\n",
    "**Hence, a subject that has to call-in to cancel will on average produce a higher chargeback rate.**"
   ]
  }
 ],
 "metadata": {
  "kernelspec": {
   "display_name": "Python 2",
   "language": "python",
   "name": "python2"
  },
  "language_info": {
   "codemirror_mode": {
    "name": "ipython",
    "version": 2
   },
   "file_extension": ".py",
   "mimetype": "text/x-python",
   "name": "python",
   "nbconvert_exporter": "python",
   "pygments_lexer": "ipython2",
   "version": "2.7.13"
  }
 },
 "nbformat": 4,
 "nbformat_minor": 2
}
